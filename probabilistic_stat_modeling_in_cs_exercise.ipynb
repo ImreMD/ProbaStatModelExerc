{
  "nbformat": 4,
  "nbformat_minor": 0,
  "metadata": {
    "colab": {
      "provenance": [],
      "authorship_tag": "ABX9TyM8pLb0FtgP+np7ngJ4AFwL",
      "include_colab_link": true
    },
    "kernelspec": {
      "name": "python3",
      "display_name": "Python 3"
    },
    "language_info": {
      "name": "python"
    }
  },
  "cells": [
    {
      "cell_type": "markdown",
      "metadata": {
        "id": "view-in-github",
        "colab_type": "text"
      },
      "source": [
        "<a href=\"https://colab.research.google.com/github/ImreMD/ProbaStatModelExerc/blob/main/probabilistic_stat_modeling_in_cs_exercise.ipynb\" target=\"_parent\"><img src=\"https://colab.research.google.com/assets/colab-badge.svg\" alt=\"Open In Colab\"/></a>"
      ]
    },
    {
      "cell_type": "markdown",
      "source": [
        "* PILE SPLIT"
      ],
      "metadata": {
        "id": "NJspNQt17I5C"
      }
    },
    {
      "cell_type": "code",
      "source": [
        "\n",
        "import itertools\n",
        "import operator\n",
        "from itertools import combinations, chain\n",
        "from operator import sub\n",
        "\n",
        "b,mid,e = [0], list(range(1,6)), [6]\n",
        "splits = (d for i in range(6) for d in combinations(mid,i))\n",
        "split1 = (d for i in range(6) for d in combinations(mid,i))\n",
        "print(list(list(map(sub,chain(s,e),chain(b,s))) for s in splits))"
      ],
      "metadata": {
        "colab": {
          "base_uri": "https://localhost:8080/"
        },
        "id": "gdUGhilwEVVG",
        "outputId": "d59221b4-bd02-44c2-db2a-f84219b57a92"
      },
      "execution_count": 3,
      "outputs": [
        {
          "output_type": "stream",
          "name": "stdout",
          "text": [
            "[[6], [1, 5], [2, 4], [3, 3], [4, 2], [5, 1], [1, 1, 4], [1, 2, 3], [1, 3, 2], [1, 4, 1], [2, 1, 3], [2, 2, 2], [2, 3, 1], [3, 1, 2], [3, 2, 1], [4, 1, 1], [1, 1, 1, 3], [1, 1, 2, 2], [1, 1, 3, 1], [1, 2, 1, 2], [1, 2, 2, 1], [1, 3, 1, 1], [2, 1, 1, 2], [2, 1, 2, 1], [2, 2, 1, 1], [3, 1, 1, 1], [1, 1, 1, 1, 2], [1, 1, 1, 2, 1], [1, 1, 2, 1, 1], [1, 2, 1, 1, 1], [2, 1, 1, 1, 1], [1, 1, 1, 1, 1, 1]]\n"
          ]
        }
      ]
    },
    {
      "cell_type": "code",
      "source": [
        "#combinations([1,2,3],2) => [(1,2), (1,3), (2,3)]\n",
        "for c in (d for i in range(6) for d in combinations([1,2,3,4,5],i)):\n",
        "  print(f\"cobination: {c} \\n\")\n"
      ],
      "metadata": {
        "id": "1Xmet5naL5JD"
      },
      "execution_count": null,
      "outputs": []
    },
    {
      "cell_type": "code",
      "source": [
        "print(list(d for i in range(3) for d in combinations(mid,i))) #split1"
      ],
      "metadata": {
        "id": "4HeWDY0uLMVW"
      },
      "execution_count": null,
      "outputs": []
    },
    {
      "cell_type": "code",
      "source": [
        "list(chain((3, 4, 5),e))"
      ],
      "metadata": {
        "id": "XEPKPcaoLQ90"
      },
      "execution_count": null,
      "outputs": []
    },
    {
      "cell_type": "code",
      "source": [
        "list(chain(b,(3, 4, 5)))"
      ],
      "metadata": {
        "id": "8QNfuLlaM18m"
      },
      "execution_count": null,
      "outputs": []
    },
    {
      "cell_type": "code",
      "source": [
        "print(list(map(sub,chain((3, 4, 5),e),chain(b,(3, 4, 5)))))"
      ],
      "metadata": {
        "id": "Ztg6TopuNeb7"
      },
      "execution_count": null,
      "outputs": []
    },
    {
      "cell_type": "markdown",
      "source": [
        "# EXERCISE TAKEN FROM THE BOOK:"
      ],
      "metadata": {
        "id": "JXnKhXm18XdW"
      }
    },
    {
      "cell_type": "markdown",
      "source": [
        "![Exercise in the book](https://drive.google.com/uc?export=view&id=1LKaGTWxyaQJ-vyF2g1TxtwAHt2UJVTN4)"
      ],
      "metadata": {
        "id": "kcmrMa4y5rC8"
      }
    },
    {
      "cell_type": "markdown",
      "source": [
        "* CHAP II ex.2 : 2 URNS PROBLEM\n",
        "URN I contains 3 blue balls and 3 yellow, URN II has 5 blue marbles and 7 yellow. We choose a marble at random from URN I and place it in URN II, we then draw a marble at random for URN II - (a) Find P(second marble is blue)"
      ],
      "metadata": {
        "id": "hivgXA_W7xUt"
      }
    },
    {
      "cell_type": "markdown",
      "source": [
        "URN I : <font color=\"blue\"> [B, B, B, Y, Y, Y] <font> <font color=\"black\"> there's an equal probability to draw a blue or yellow ball. I will simulate this in python by drawing a random number between 1 - 6 and if its <= 3 it will be a Blue ball if not an yellow one"
      ],
      "metadata": {
        "id": "c6XTAs_zDG8F"
      }
    },
    {
      "cell_type": "code",
      "source": [
        "import random\n",
        "import itertools              #flatten nested list as a result of running experiments\n",
        "from functools import partial #partial application of urn_2 with trials set"
      ],
      "metadata": {
        "id": "MPSlAbvNFh2l"
      },
      "execution_count": 4,
      "outputs": []
    },
    {
      "cell_type": "code",
      "source": [
        "\n",
        "def urn_1(trials):\n",
        "\n",
        "  results = []\n",
        "  # generate random numbers between 1 and 6\n",
        "  for _ in range(trials):\n",
        "    random_number = random.randint(1, 6)\n",
        "\n",
        "      # check if the random number is less than or equal to 3\n",
        "    if random_number <= 3:\n",
        "          color = 'b'  # blue\n",
        "    else:\n",
        "          color = 'y'  # yellow\n",
        "\n",
        "    # add the color to the results list\n",
        "    results.append(color)\n",
        "  return results\n"
      ],
      "metadata": {
        "id": "Er5jCVu9E2kk"
      },
      "execution_count": 5,
      "outputs": []
    },
    {
      "cell_type": "code",
      "source": [
        "print(urn_1(10))"
      ],
      "metadata": {
        "colab": {
          "base_uri": "https://localhost:8080/"
        },
        "id": "QvarGC_yGD9W",
        "outputId": "3edd9fd7-3131-4832-83e2-b714d2916c66"
      },
      "execution_count": 6,
      "outputs": [
        {
          "output_type": "stream",
          "name": "stdout",
          "text": [
            "['y', 'y', 'y', 'y', 'y', 'b', 'b', 'b', 'y', 'b']\n"
          ]
        }
      ]
    },
    {
      "cell_type": "code",
      "source": [
        "#5 balls blue, 7 balls yellow originaly\n",
        "def urn_2(marble, trials):\n",
        "\n",
        "  results = []\n",
        "  nbr_marbles_blue = 5\n",
        "  nbr_marbles_yellow = 7\n",
        "\n",
        "  if marble == 'b':\n",
        "    nbr_marbles_blue +=1\n",
        "  else:\n",
        "    nbr_marbles_yellow += 1\n",
        "\n",
        "  # generate random numbers between 1 and 6\n",
        "  for _ in range(trials):\n",
        "    random_number = random.randint(1, 13) #now there're 12+1 balls\n",
        "     # check if the random number is less than or equal to 3\n",
        "    if random_number <= nbr_marbles_blue:\n",
        "          color = 1  # blue\n",
        "    else:\n",
        "          color = 0  # yellow\n",
        "\n",
        "    # add the color to the results list\n",
        "    results.append(color)\n",
        "\n",
        "  return results"
      ],
      "metadata": {
        "id": "X_Ri9ZBzGJOu"
      },
      "execution_count": 7,
      "outputs": []
    },
    {
      "cell_type": "code",
      "source": [
        "def many_experiments(nr_trials):\n",
        "  results = []\n",
        "  for _ in range(nr_trials):\n",
        "    partially_applied_urn2 = partial(urn_2, trials = 100)\n",
        "    run_experiment = map(partially_applied_urn2, urn_1(100))\n",
        "    flattened_list = list(itertools.chain.from_iterable(run_experiment))\n",
        "    results.append(sum(flattened_list)/len(flattened_list))\n",
        "  return results"
      ],
      "metadata": {
        "id": "d9ZxJIruJQ_z"
      },
      "execution_count": 8,
      "outputs": []
    },
    {
      "cell_type": "code",
      "source": [
        "experiment_final = many_experiments(10)\n",
        "print(experiment_final)\n",
        "stats = sum(experiment_final)/len(experiment_final)\n",
        "print(f'expertiment stats: {stats:.5}')\n"
      ],
      "metadata": {
        "colab": {
          "base_uri": "https://localhost:8080/"
        },
        "id": "Y3PzC59CLlVf",
        "outputId": "8df6728f-1f0d-47b5-b0d3-57995db93d70"
      },
      "execution_count": 9,
      "outputs": [
        {
          "output_type": "stream",
          "name": "stdout",
          "text": [
            "[0.4258, 0.435, 0.4239, 0.4183, 0.4154, 0.4239, 0.4197, 0.4268, 0.427, 0.4165]\n",
            "expertiment stats: 0.42323\n"
          ]
        }
      ]
    },
    {
      "cell_type": "markdown",
      "source": [
        "script\n",
        "  src=\"https://cdn.mathjax.org/mathjax/latest/MathJax.js?config=TeX-AMS-MML_HTMLorMML\"\n",
        "  type=\"text/javascript\">\n",
        "script"
      ],
      "metadata": {
        "id": "4bF4h0r0XwQM"
      }
    },
    {
      "cell_type": "markdown",
      "source": [
        "<script\n",
        "  src=\"https://cdn.mathjax.org/mathjax/latest/MathJax.js?config=TeX-AMS-MML_HTMLorMML\"\n",
        "  type=\"text/javascript\">\n",
        "</script>"
      ],
      "metadata": {
        "id": "rgeG9uc0XRoM"
      }
    },
    {
      "cell_type": "markdown",
      "source": [
        "Theoretical result (I think):  \n",
        "0.5 chances of picking a blue marble from URN I two probabilities arise when adding the marble from URN I [the number of balls in URN II will be in total 13]marble\n",
        "$$ 0.5 \\times(6 \\div 13) + 0.5 \\times(5 \\div 13) $$\n",
        "\n",
        "$$0,4230769...4230769...$$"
      ],
      "metadata": {
        "id": "DaSaQynKXpGF"
      }
    },
    {
      "cell_type": "markdown",
      "source": [
        "I'm not really satisfied with this solution it's not really in the spirit of the book, the author of the book strongly recommands to think of probabilities as large notebook where in each row you record the results of an experiment and then calculate the favorable proportions. I will try to solve the above problem with a DataFrame. The DataFrame will mimic the notebook comparison. Let's start, you know the import pandas as pd... and then rock on"
      ],
      "metadata": {
        "id": "0OA5vwFugNyR"
      }
    },
    {
      "cell_type": "code",
      "source": [
        "import pandas as pd\n"
      ],
      "metadata": {
        "id": "n2fdQi-pg2fG"
      },
      "execution_count": 1,
      "outputs": []
    },
    {
      "cell_type": "code",
      "source": [
        "#create a DataFrame from the tries in URN_1\n",
        "#using the previous function which will give chars 'b' and 'y'\n",
        "#need to convert chars to 1 and 0 better for counting\n",
        "urn_1_tries = map(lambda x : 1 if x == 'b' else 0, urn_1(10000))\n",
        "\n",
        "marble_exp_df = pd.DataFrame(urn_1_tries, columns=['URN_1'])\n",
        "\n",
        "#now I need a conditional URN_2 column with the following logic\n",
        "#if URN_1 = 1 then I need to draw from a 6/7 distribution\n",
        "#else from a 5/8 distribution\n",
        "def urn2_pick(num):                 # not very nice - will try to refactor\n",
        "\n",
        "  if num == 0:\n",
        "    rn_mar = random.randint(1, 13)  #urn_1 = blue marble\n",
        "    if rn_mar <= 6:\n",
        "      return 1                      #blue marble\n",
        "    else:\n",
        "      return 0\n",
        "  if num == 1:                      #urn_1 = yellow marble\n",
        "    rn_mar = random.randint(1, 13)\n",
        "    if rn_mar <= 5:\n",
        "      return 1                      #blue marble\n",
        "    else:\n",
        "      return 0\n",
        "marble_exp_df['URN_2'] =  marble_exp_df['URN_1'].apply(urn2_pick)\n",
        "\n",
        "#print df\n",
        "marble_exp_df.head(20)"
      ],
      "metadata": {
        "colab": {
          "base_uri": "https://localhost:8080/",
          "height": 677
        },
        "id": "UAuv0_qehjNd",
        "outputId": "46afea28-a251-4f7f-92ab-f6464cc25c41"
      },
      "execution_count": 36,
      "outputs": [
        {
          "output_type": "execute_result",
          "data": {
            "text/plain": [
              "    URN_1  URN_2\n",
              "0       1      0\n",
              "1       0      1\n",
              "2       1      0\n",
              "3       1      1\n",
              "4       1      0\n",
              "5       1      0\n",
              "6       1      0\n",
              "7       0      0\n",
              "8       0      1\n",
              "9       0      0\n",
              "10      1      0\n",
              "11      0      0\n",
              "12      0      1\n",
              "13      0      0\n",
              "14      0      0\n",
              "15      1      0\n",
              "16      1      0\n",
              "17      0      0\n",
              "18      0      1\n",
              "19      0      0"
            ],
            "text/html": [
              "\n",
              "  <div id=\"df-e28146c7-2b03-4c5d-be94-5cde116e7c58\" class=\"colab-df-container\">\n",
              "    <div>\n",
              "<style scoped>\n",
              "    .dataframe tbody tr th:only-of-type {\n",
              "        vertical-align: middle;\n",
              "    }\n",
              "\n",
              "    .dataframe tbody tr th {\n",
              "        vertical-align: top;\n",
              "    }\n",
              "\n",
              "    .dataframe thead th {\n",
              "        text-align: right;\n",
              "    }\n",
              "</style>\n",
              "<table border=\"1\" class=\"dataframe\">\n",
              "  <thead>\n",
              "    <tr style=\"text-align: right;\">\n",
              "      <th></th>\n",
              "      <th>URN_1</th>\n",
              "      <th>URN_2</th>\n",
              "    </tr>\n",
              "  </thead>\n",
              "  <tbody>\n",
              "    <tr>\n",
              "      <th>0</th>\n",
              "      <td>1</td>\n",
              "      <td>0</td>\n",
              "    </tr>\n",
              "    <tr>\n",
              "      <th>1</th>\n",
              "      <td>0</td>\n",
              "      <td>1</td>\n",
              "    </tr>\n",
              "    <tr>\n",
              "      <th>2</th>\n",
              "      <td>1</td>\n",
              "      <td>0</td>\n",
              "    </tr>\n",
              "    <tr>\n",
              "      <th>3</th>\n",
              "      <td>1</td>\n",
              "      <td>1</td>\n",
              "    </tr>\n",
              "    <tr>\n",
              "      <th>4</th>\n",
              "      <td>1</td>\n",
              "      <td>0</td>\n",
              "    </tr>\n",
              "    <tr>\n",
              "      <th>5</th>\n",
              "      <td>1</td>\n",
              "      <td>0</td>\n",
              "    </tr>\n",
              "    <tr>\n",
              "      <th>6</th>\n",
              "      <td>1</td>\n",
              "      <td>0</td>\n",
              "    </tr>\n",
              "    <tr>\n",
              "      <th>7</th>\n",
              "      <td>0</td>\n",
              "      <td>0</td>\n",
              "    </tr>\n",
              "    <tr>\n",
              "      <th>8</th>\n",
              "      <td>0</td>\n",
              "      <td>1</td>\n",
              "    </tr>\n",
              "    <tr>\n",
              "      <th>9</th>\n",
              "      <td>0</td>\n",
              "      <td>0</td>\n",
              "    </tr>\n",
              "    <tr>\n",
              "      <th>10</th>\n",
              "      <td>1</td>\n",
              "      <td>0</td>\n",
              "    </tr>\n",
              "    <tr>\n",
              "      <th>11</th>\n",
              "      <td>0</td>\n",
              "      <td>0</td>\n",
              "    </tr>\n",
              "    <tr>\n",
              "      <th>12</th>\n",
              "      <td>0</td>\n",
              "      <td>1</td>\n",
              "    </tr>\n",
              "    <tr>\n",
              "      <th>13</th>\n",
              "      <td>0</td>\n",
              "      <td>0</td>\n",
              "    </tr>\n",
              "    <tr>\n",
              "      <th>14</th>\n",
              "      <td>0</td>\n",
              "      <td>0</td>\n",
              "    </tr>\n",
              "    <tr>\n",
              "      <th>15</th>\n",
              "      <td>1</td>\n",
              "      <td>0</td>\n",
              "    </tr>\n",
              "    <tr>\n",
              "      <th>16</th>\n",
              "      <td>1</td>\n",
              "      <td>0</td>\n",
              "    </tr>\n",
              "    <tr>\n",
              "      <th>17</th>\n",
              "      <td>0</td>\n",
              "      <td>0</td>\n",
              "    </tr>\n",
              "    <tr>\n",
              "      <th>18</th>\n",
              "      <td>0</td>\n",
              "      <td>1</td>\n",
              "    </tr>\n",
              "    <tr>\n",
              "      <th>19</th>\n",
              "      <td>0</td>\n",
              "      <td>0</td>\n",
              "    </tr>\n",
              "  </tbody>\n",
              "</table>\n",
              "</div>\n",
              "    <div class=\"colab-df-buttons\">\n",
              "\n",
              "  <div class=\"colab-df-container\">\n",
              "    <button class=\"colab-df-convert\" onclick=\"convertToInteractive('df-e28146c7-2b03-4c5d-be94-5cde116e7c58')\"\n",
              "            title=\"Convert this dataframe to an interactive table.\"\n",
              "            style=\"display:none;\">\n",
              "\n",
              "  <svg xmlns=\"http://www.w3.org/2000/svg\" height=\"24px\" viewBox=\"0 -960 960 960\">\n",
              "    <path d=\"M120-120v-720h720v720H120Zm60-500h600v-160H180v160Zm220 220h160v-160H400v160Zm0 220h160v-160H400v160ZM180-400h160v-160H180v160Zm440 0h160v-160H620v160ZM180-180h160v-160H180v160Zm440 0h160v-160H620v160Z\"/>\n",
              "  </svg>\n",
              "    </button>\n",
              "\n",
              "  <style>\n",
              "    .colab-df-container {\n",
              "      display:flex;\n",
              "      gap: 12px;\n",
              "    }\n",
              "\n",
              "    .colab-df-convert {\n",
              "      background-color: #E8F0FE;\n",
              "      border: none;\n",
              "      border-radius: 50%;\n",
              "      cursor: pointer;\n",
              "      display: none;\n",
              "      fill: #1967D2;\n",
              "      height: 32px;\n",
              "      padding: 0 0 0 0;\n",
              "      width: 32px;\n",
              "    }\n",
              "\n",
              "    .colab-df-convert:hover {\n",
              "      background-color: #E2EBFA;\n",
              "      box-shadow: 0px 1px 2px rgba(60, 64, 67, 0.3), 0px 1px 3px 1px rgba(60, 64, 67, 0.15);\n",
              "      fill: #174EA6;\n",
              "    }\n",
              "\n",
              "    .colab-df-buttons div {\n",
              "      margin-bottom: 4px;\n",
              "    }\n",
              "\n",
              "    [theme=dark] .colab-df-convert {\n",
              "      background-color: #3B4455;\n",
              "      fill: #D2E3FC;\n",
              "    }\n",
              "\n",
              "    [theme=dark] .colab-df-convert:hover {\n",
              "      background-color: #434B5C;\n",
              "      box-shadow: 0px 1px 3px 1px rgba(0, 0, 0, 0.15);\n",
              "      filter: drop-shadow(0px 1px 2px rgba(0, 0, 0, 0.3));\n",
              "      fill: #FFFFFF;\n",
              "    }\n",
              "  </style>\n",
              "\n",
              "    <script>\n",
              "      const buttonEl =\n",
              "        document.querySelector('#df-e28146c7-2b03-4c5d-be94-5cde116e7c58 button.colab-df-convert');\n",
              "      buttonEl.style.display =\n",
              "        google.colab.kernel.accessAllowed ? 'block' : 'none';\n",
              "\n",
              "      async function convertToInteractive(key) {\n",
              "        const element = document.querySelector('#df-e28146c7-2b03-4c5d-be94-5cde116e7c58');\n",
              "        const dataTable =\n",
              "          await google.colab.kernel.invokeFunction('convertToInteractive',\n",
              "                                                    [key], {});\n",
              "        if (!dataTable) return;\n",
              "\n",
              "        const docLinkHtml = 'Like what you see? Visit the ' +\n",
              "          '<a target=\"_blank\" href=https://colab.research.google.com/notebooks/data_table.ipynb>data table notebook</a>'\n",
              "          + ' to learn more about interactive tables.';\n",
              "        element.innerHTML = '';\n",
              "        dataTable['output_type'] = 'display_data';\n",
              "        await google.colab.output.renderOutput(dataTable, element);\n",
              "        const docLink = document.createElement('div');\n",
              "        docLink.innerHTML = docLinkHtml;\n",
              "        element.appendChild(docLink);\n",
              "      }\n",
              "    </script>\n",
              "  </div>\n",
              "\n",
              "\n",
              "<div id=\"df-c4588739-1545-47d4-912c-dc73cda9aad9\">\n",
              "  <button class=\"colab-df-quickchart\" onclick=\"quickchart('df-c4588739-1545-47d4-912c-dc73cda9aad9')\"\n",
              "            title=\"Suggest charts\"\n",
              "            style=\"display:none;\">\n",
              "\n",
              "<svg xmlns=\"http://www.w3.org/2000/svg\" height=\"24px\"viewBox=\"0 0 24 24\"\n",
              "     width=\"24px\">\n",
              "    <g>\n",
              "        <path d=\"M19 3H5c-1.1 0-2 .9-2 2v14c0 1.1.9 2 2 2h14c1.1 0 2-.9 2-2V5c0-1.1-.9-2-2-2zM9 17H7v-7h2v7zm4 0h-2V7h2v10zm4 0h-2v-4h2v4z\"/>\n",
              "    </g>\n",
              "</svg>\n",
              "  </button>\n",
              "\n",
              "<style>\n",
              "  .colab-df-quickchart {\n",
              "      --bg-color: #E8F0FE;\n",
              "      --fill-color: #1967D2;\n",
              "      --hover-bg-color: #E2EBFA;\n",
              "      --hover-fill-color: #174EA6;\n",
              "      --disabled-fill-color: #AAA;\n",
              "      --disabled-bg-color: #DDD;\n",
              "  }\n",
              "\n",
              "  [theme=dark] .colab-df-quickchart {\n",
              "      --bg-color: #3B4455;\n",
              "      --fill-color: #D2E3FC;\n",
              "      --hover-bg-color: #434B5C;\n",
              "      --hover-fill-color: #FFFFFF;\n",
              "      --disabled-bg-color: #3B4455;\n",
              "      --disabled-fill-color: #666;\n",
              "  }\n",
              "\n",
              "  .colab-df-quickchart {\n",
              "    background-color: var(--bg-color);\n",
              "    border: none;\n",
              "    border-radius: 50%;\n",
              "    cursor: pointer;\n",
              "    display: none;\n",
              "    fill: var(--fill-color);\n",
              "    height: 32px;\n",
              "    padding: 0;\n",
              "    width: 32px;\n",
              "  }\n",
              "\n",
              "  .colab-df-quickchart:hover {\n",
              "    background-color: var(--hover-bg-color);\n",
              "    box-shadow: 0 1px 2px rgba(60, 64, 67, 0.3), 0 1px 3px 1px rgba(60, 64, 67, 0.15);\n",
              "    fill: var(--button-hover-fill-color);\n",
              "  }\n",
              "\n",
              "  .colab-df-quickchart-complete:disabled,\n",
              "  .colab-df-quickchart-complete:disabled:hover {\n",
              "    background-color: var(--disabled-bg-color);\n",
              "    fill: var(--disabled-fill-color);\n",
              "    box-shadow: none;\n",
              "  }\n",
              "\n",
              "  .colab-df-spinner {\n",
              "    border: 2px solid var(--fill-color);\n",
              "    border-color: transparent;\n",
              "    border-bottom-color: var(--fill-color);\n",
              "    animation:\n",
              "      spin 1s steps(1) infinite;\n",
              "  }\n",
              "\n",
              "  @keyframes spin {\n",
              "    0% {\n",
              "      border-color: transparent;\n",
              "      border-bottom-color: var(--fill-color);\n",
              "      border-left-color: var(--fill-color);\n",
              "    }\n",
              "    20% {\n",
              "      border-color: transparent;\n",
              "      border-left-color: var(--fill-color);\n",
              "      border-top-color: var(--fill-color);\n",
              "    }\n",
              "    30% {\n",
              "      border-color: transparent;\n",
              "      border-left-color: var(--fill-color);\n",
              "      border-top-color: var(--fill-color);\n",
              "      border-right-color: var(--fill-color);\n",
              "    }\n",
              "    40% {\n",
              "      border-color: transparent;\n",
              "      border-right-color: var(--fill-color);\n",
              "      border-top-color: var(--fill-color);\n",
              "    }\n",
              "    60% {\n",
              "      border-color: transparent;\n",
              "      border-right-color: var(--fill-color);\n",
              "    }\n",
              "    80% {\n",
              "      border-color: transparent;\n",
              "      border-right-color: var(--fill-color);\n",
              "      border-bottom-color: var(--fill-color);\n",
              "    }\n",
              "    90% {\n",
              "      border-color: transparent;\n",
              "      border-bottom-color: var(--fill-color);\n",
              "    }\n",
              "  }\n",
              "</style>\n",
              "\n",
              "  <script>\n",
              "    async function quickchart(key) {\n",
              "      const quickchartButtonEl =\n",
              "        document.querySelector('#' + key + ' button');\n",
              "      quickchartButtonEl.disabled = true;  // To prevent multiple clicks.\n",
              "      quickchartButtonEl.classList.add('colab-df-spinner');\n",
              "      try {\n",
              "        const charts = await google.colab.kernel.invokeFunction(\n",
              "            'suggestCharts', [key], {});\n",
              "      } catch (error) {\n",
              "        console.error('Error during call to suggestCharts:', error);\n",
              "      }\n",
              "      quickchartButtonEl.classList.remove('colab-df-spinner');\n",
              "      quickchartButtonEl.classList.add('colab-df-quickchart-complete');\n",
              "    }\n",
              "    (() => {\n",
              "      let quickchartButtonEl =\n",
              "        document.querySelector('#df-c4588739-1545-47d4-912c-dc73cda9aad9 button');\n",
              "      quickchartButtonEl.style.display =\n",
              "        google.colab.kernel.accessAllowed ? 'block' : 'none';\n",
              "    })();\n",
              "  </script>\n",
              "</div>\n",
              "    </div>\n",
              "  </div>\n"
            ]
          },
          "metadata": {},
          "execution_count": 36
        }
      ]
    },
    {
      "cell_type": "code",
      "source": [
        "# now we can start counting\n",
        "# P(second marble is blue)\n",
        "num_rows = marble_exp_df.shape[0]\n",
        "sum_marble_blue = sum(marble_exp_df['URN_2'])\n",
        "print(f\"experiments stats: {(sum_marble_blue/num_rows): .5}\")"
      ],
      "metadata": {
        "colab": {
          "base_uri": "https://localhost:8080/"
        },
        "id": "azCoBMz8nsVM",
        "outputId": "83e38989-50c2-41d4-c526-b2ed709ccb3a"
      },
      "execution_count": 37,
      "outputs": [
        {
          "output_type": "stream",
          "name": "stdout",
          "text": [
            "experiments stats:  0.4261\n"
          ]
        }
      ]
    },
    {
      "cell_type": "code",
      "source": [
        "#hmmm something's not correct here wrong stats... should check that"
      ],
      "metadata": {
        "id": "MXezZv-IpbU9"
      },
      "execution_count": null,
      "outputs": []
    },
    {
      "cell_type": "code",
      "source": [
        "# Create a DataFrame with random integers between 1 and 10\n",
        "df = pd.DataFrame({'numbers': [random.randint(1, 10) for _ in range(5)]})\n",
        "\n",
        "# Define a function to check if a number is even or odd\n",
        "def check_even_odd(num):\n",
        "  rn_mar = random.randint(1, 6)\n",
        "  if num == 1:\n",
        "    if rn_mar <=\n",
        "\n",
        "        return 'even'\n",
        "    else:\n",
        "        return 'odd'\n",
        "\n",
        "# Apply the function to the 'numbers' column and create a new column 'result'\n",
        "df['result'] = df['numbers'].apply(check_even_odd)\n",
        "\n",
        "# Print the DataFrame\n",
        "print(df)"
      ],
      "metadata": {
        "colab": {
          "base_uri": "https://localhost:8080/"
        },
        "id": "tpAlPR_zlcSx",
        "outputId": "d8269f14-74ae-4a9e-964e-b0d45ec72622"
      },
      "execution_count": 22,
      "outputs": [
        {
          "output_type": "stream",
          "name": "stdout",
          "text": [
            "   numbers result\n",
            "0        5    odd\n",
            "1        6   even\n",
            "2        5    odd\n",
            "3        9    odd\n",
            "4        7    odd\n"
          ]
        }
      ]
    },
    {
      "cell_type": "markdown",
      "source": [
        "(b) P(first marble blue, second marble blue)\n",
        "here we are fixed with one blue marble draw from URN I"
      ],
      "metadata": {
        "id": "bbIGVjhuedzM"
      }
    },
    {
      "cell_type": "code",
      "source": [
        "print(urn_1(10)) #the combination with ('y', _) will count for 0\n",
        "                 #only the ('b', 'b') will by given a count of 1"
      ],
      "metadata": {
        "colab": {
          "base_uri": "https://localhost:8080/"
        },
        "id": "NWHIsOepfVdC",
        "outputId": "44c2fa55-0869-4936-86b2-cd3ae7848080"
      },
      "execution_count": 25,
      "outputs": [
        {
          "output_type": "stream",
          "name": "stdout",
          "text": [
            "['y', 'y', 'b', 'b', 'b', 'y', 'y', 'y', 'b', 'y']\n"
          ]
        }
      ]
    },
    {
      "cell_type": "code",
      "source": [],
      "metadata": {
        "id": "Pg7pVYBcgqib"
      },
      "execution_count": null,
      "outputs": []
    }
  ]
}
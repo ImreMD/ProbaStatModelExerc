{
  "nbformat": 4,
  "nbformat_minor": 0,
  "metadata": {
    "colab": {
      "provenance": [],
      "authorship_tag": "ABX9TyNdYxUVPLxA4MAmYTs4uO+V",
      "include_colab_link": true
    },
    "kernelspec": {
      "name": "python3",
      "display_name": "Python 3"
    },
    "language_info": {
      "name": "python"
    }
  },
  "cells": [
    {
      "cell_type": "markdown",
      "metadata": {
        "id": "view-in-github",
        "colab_type": "text"
      },
      "source": [
        "<a href=\"https://colab.research.google.com/github/ImreMD/ProbaStatModelExerc/blob/main/probabilistic_stat_modeling_in_cs_exercise.ipynb\" target=\"_parent\"><img src=\"https://colab.research.google.com/assets/colab-badge.svg\" alt=\"Open In Colab\"/></a>"
      ]
    },
    {
      "cell_type": "markdown",
      "source": [
        "* PILE SPLIT"
      ],
      "metadata": {
        "id": "NJspNQt17I5C"
      }
    },
    {
      "cell_type": "code",
      "source": [
        "\n",
        "import itertools\n",
        "import operator\n",
        "from itertools import combinations, chain\n",
        "from operator import sub\n",
        "\n",
        "b,mid,e = [0], list(range(1,6)), [6]\n",
        "splits = (d for i in range(6) for d in combinations(mid,i))\n",
        "split1 = (d for i in range(6) for d in combinations(mid,i))\n",
        "print(list(list(map(sub,chain(s,e),chain(b,s))) for s in splits))"
      ],
      "metadata": {
        "colab": {
          "base_uri": "https://localhost:8080/"
        },
        "id": "gdUGhilwEVVG",
        "outputId": "4da635e5-9a02-4580-9d4b-eab906b28ed7"
      },
      "execution_count": null,
      "outputs": [
        {
          "output_type": "stream",
          "name": "stdout",
          "text": [
            "[[6], [1, 5], [2, 4], [3, 3], [4, 2], [5, 1], [1, 1, 4], [1, 2, 3], [1, 3, 2], [1, 4, 1], [2, 1, 3], [2, 2, 2], [2, 3, 1], [3, 1, 2], [3, 2, 1], [4, 1, 1], [1, 1, 1, 3], [1, 1, 2, 2], [1, 1, 3, 1], [1, 2, 1, 2], [1, 2, 2, 1], [1, 3, 1, 1], [2, 1, 1, 2], [2, 1, 2, 1], [2, 2, 1, 1], [3, 1, 1, 1], [1, 1, 1, 1, 2], [1, 1, 1, 2, 1], [1, 1, 2, 1, 1], [1, 2, 1, 1, 1], [2, 1, 1, 1, 1], [1, 1, 1, 1, 1, 1]]\n"
          ]
        }
      ]
    },
    {
      "cell_type": "code",
      "source": [
        "#combinations([1,2,3],2) => [(1,2), (1,3), (2,3)]\n",
        "for c in (d for i in range(6) for d in combinations([1,2,3,4,5],i)):\n",
        "  print(f\"cobination: {c} \\n\")\n"
      ],
      "metadata": {
        "id": "1Xmet5naL5JD"
      },
      "execution_count": null,
      "outputs": []
    },
    {
      "cell_type": "code",
      "source": [
        "print(list(d for i in range(3) for d in combinations(mid,i))) #split1"
      ],
      "metadata": {
        "id": "4HeWDY0uLMVW"
      },
      "execution_count": null,
      "outputs": []
    },
    {
      "cell_type": "code",
      "source": [
        "list(chain((3, 4, 5),e))"
      ],
      "metadata": {
        "id": "XEPKPcaoLQ90"
      },
      "execution_count": null,
      "outputs": []
    },
    {
      "cell_type": "code",
      "source": [
        "list(chain(b,(3, 4, 5)))"
      ],
      "metadata": {
        "id": "8QNfuLlaM18m"
      },
      "execution_count": null,
      "outputs": []
    },
    {
      "cell_type": "code",
      "source": [
        "print(list(map(sub,chain((3, 4, 5),e),chain(b,(3, 4, 5)))))"
      ],
      "metadata": {
        "id": "Ztg6TopuNeb7"
      },
      "execution_count": null,
      "outputs": []
    },
    {
      "cell_type": "markdown",
      "source": [
        "# EXERCISE TAKEN FROM THE BOOK:"
      ],
      "metadata": {
        "id": "JXnKhXm18XdW"
      }
    },
    {
      "cell_type": "markdown",
      "source": [
        "![Exercise in the book](https://drive.google.com/uc?export=view&id=1LKaGTWxyaQJ-vyF2g1TxtwAHt2UJVTN4)"
      ],
      "metadata": {
        "id": "kcmrMa4y5rC8"
      }
    },
    {
      "cell_type": "markdown",
      "source": [
        "* CHAP II ex.2 : 2 URNS PROBLEM\n",
        "URN I contains 3 blue balls and 3 yellow, URN II has 5 blue marbles and 7 yellow. We choose a marble at random from URN I and place it in URN II, we then draw a marble at random for URN II - (a) Find P(second marble is blue)"
      ],
      "metadata": {
        "id": "hivgXA_W7xUt"
      }
    },
    {
      "cell_type": "markdown",
      "source": [
        "URN I : <font color=\"blue\"> [B, B, B, Y, Y, Y] <font> <font color=\"black\"> there's an equal probability to draw a blue or yellow ball. I will simulate this in python by drawing a random number between 1 - 6 and if its <= 3 it will be a Blue ball if not an yellow one"
      ],
      "metadata": {
        "id": "c6XTAs_zDG8F"
      }
    },
    {
      "cell_type": "code",
      "source": [
        "import random\n",
        "import itertools              #flatten nested list as a result of running experiments\n",
        "from functools import partial #partial application of urn_2 with trials set"
      ],
      "metadata": {
        "id": "MPSlAbvNFh2l"
      },
      "execution_count": 4,
      "outputs": []
    },
    {
      "cell_type": "code",
      "source": [
        "\n",
        "def urn_1(trials):\n",
        "\n",
        "  results = []\n",
        "  # generate random numbers between 1 and 6\n",
        "  for _ in range(trials):\n",
        "    random_number = random.randint(1, 6)\n",
        "\n",
        "      # check if the random number is less than or equal to 3\n",
        "    if random_number <= 3:\n",
        "          color = 'b'  # blue\n",
        "    else:\n",
        "          color = 'y'  # yellow\n",
        "\n",
        "    # add the color to the results list\n",
        "    results.append(color)\n",
        "  return results\n"
      ],
      "metadata": {
        "id": "Er5jCVu9E2kk"
      },
      "execution_count": 20,
      "outputs": []
    },
    {
      "cell_type": "code",
      "source": [
        "print(urn_1(10))"
      ],
      "metadata": {
        "colab": {
          "base_uri": "https://localhost:8080/"
        },
        "id": "QvarGC_yGD9W",
        "outputId": "ca7f0534-0ad6-42d3-c60d-779d428e276e"
      },
      "execution_count": 21,
      "outputs": [
        {
          "output_type": "stream",
          "name": "stdout",
          "text": [
            "['b', 'b', 'b', 'y', 'b', 'b', 'y', 'b', 'y', 'b']\n"
          ]
        }
      ]
    },
    {
      "cell_type": "code",
      "source": [
        "#5 balls blue, 7 balls yellow originaly\n",
        "def urn_2(marble, trials):\n",
        "\n",
        "  results = []\n",
        "  nbr_marbles_blue = 5\n",
        "  nbr_marbles_yellow = 7\n",
        "\n",
        "  if marble == 'b':\n",
        "    nbr_marbles_blue +=1\n",
        "  else:\n",
        "    nbr_marbles_yellow += 1\n",
        "\n",
        "  # generate random numbers between 1 and 6\n",
        "  for _ in range(trials):\n",
        "    random_number = random.randint(1, 13) #now there're 12+1 balls\n",
        "     # check if the random number is less than or equal to 3\n",
        "    if random_number <= nbr_marbles_blue:\n",
        "          color = 1  # blue\n",
        "    else:\n",
        "          color = 0  # yellow\n",
        "\n",
        "    # add the color to the results list\n",
        "    results.append(color)\n",
        "\n",
        "  return results"
      ],
      "metadata": {
        "id": "X_Ri9ZBzGJOu"
      },
      "execution_count": 19,
      "outputs": []
    },
    {
      "cell_type": "code",
      "source": [
        "def many_experiments(nr_trials):\n",
        "  results = []\n",
        "  for _ in range(nr_trials):\n",
        "    partially_applied_urn2 = partial(urn_2, trials = 100)\n",
        "    run_experiment = map(partially_applied_urn2, urn_1(100))\n",
        "    flattened_list = list(itertools.chain.from_iterable(run_experiment))\n",
        "    results.append(sum(flattened_list)/len(flattened_list))\n",
        "  return results"
      ],
      "metadata": {
        "id": "d9ZxJIruJQ_z"
      },
      "execution_count": 22,
      "outputs": []
    },
    {
      "cell_type": "code",
      "source": [
        "experiment_final = many_experiments(100)\n",
        "print(experiment_final)\n",
        "stats = sum(experiment_final)/len(experiment_final)\n",
        "print(f'expertiment stats: {stats:.5}')\n"
      ],
      "metadata": {
        "colab": {
          "base_uri": "https://localhost:8080/"
        },
        "id": "Y3PzC59CLlVf",
        "outputId": "8b874765-00ff-4787-df48-62ba70d788c9"
      },
      "execution_count": 23,
      "outputs": [
        {
          "output_type": "stream",
          "name": "stdout",
          "text": [
            "[0.4205, 0.4145, 0.4171, 0.4377, 0.4216, 0.4225, 0.416, 0.4322, 0.4139, 0.4278, 0.4245, 0.41, 0.4175, 0.4282, 0.4312, 0.4203, 0.4197, 0.4294, 0.4174, 0.4273, 0.437, 0.4289, 0.4195, 0.4169, 0.4174, 0.4245, 0.4356, 0.4285, 0.4287, 0.4262, 0.4209, 0.4207, 0.416, 0.4289, 0.4328, 0.4323, 0.4209, 0.4216, 0.4151, 0.4157, 0.4255, 0.4336, 0.4245, 0.4247, 0.4219, 0.4228, 0.4275, 0.4246, 0.4193, 0.4201, 0.4227, 0.4312, 0.4264, 0.428, 0.4285, 0.4159, 0.4207, 0.428, 0.4235, 0.4195, 0.4296, 0.4251, 0.4189, 0.4218, 0.4148, 0.4214, 0.4291, 0.4144, 0.4229, 0.42, 0.4315, 0.4159, 0.4307, 0.4293, 0.4213, 0.4266, 0.4274, 0.4306, 0.4206, 0.4304, 0.4276, 0.4296, 0.4189, 0.4236, 0.416, 0.4217, 0.4218, 0.4394, 0.4244, 0.4298, 0.4156, 0.4174, 0.4264, 0.423, 0.4194, 0.4192, 0.4343, 0.4255, 0.4124, 0.4258]\n",
            "expertiment stats: 0.4238\n"
          ]
        }
      ]
    },
    {
      "cell_type": "markdown",
      "source": [
        "script\n",
        "  src=\"https://cdn.mathjax.org/mathjax/latest/MathJax.js?config=TeX-AMS-MML_HTMLorMML\"\n",
        "  type=\"text/javascript\">\n",
        "script"
      ],
      "metadata": {
        "id": "4bF4h0r0XwQM"
      }
    },
    {
      "cell_type": "markdown",
      "source": [
        "<script\n",
        "  src=\"https://cdn.mathjax.org/mathjax/latest/MathJax.js?config=TeX-AMS-MML_HTMLorMML\"\n",
        "  type=\"text/javascript\">\n",
        "</script>"
      ],
      "metadata": {
        "id": "rgeG9uc0XRoM"
      }
    },
    {
      "cell_type": "markdown",
      "source": [
        "Theoretical result (I think):  \n",
        "0.5 chances of picking a blue marble from URN I two probabilities arise when adding the marble from URN I [the number of balls in URN II will be in total 13]marble\n",
        "$$ 0.5 \\times(6 \\div 13) + 0.5 \\times(5 \\div 13) $$\n",
        "\n",
        "$$0,4230769...4230769...$$"
      ],
      "metadata": {
        "id": "DaSaQynKXpGF"
      }
    },
    {
      "cell_type": "markdown",
      "source": [
        "(b) P(first marble blue, second marble blue)\n",
        "here we are fixed with one blue marble draw from URN I"
      ],
      "metadata": {
        "id": "bbIGVjhuedzM"
      }
    },
    {
      "cell_type": "code",
      "source": [
        "print(urn_1(10)) #the combination with ('y', _) will count for 0\n",
        "                 #only the ('b', 'b') will by given a count of 1"
      ],
      "metadata": {
        "colab": {
          "base_uri": "https://localhost:8080/"
        },
        "id": "NWHIsOepfVdC",
        "outputId": "44c2fa55-0869-4936-86b2-cd3ae7848080"
      },
      "execution_count": 25,
      "outputs": [
        {
          "output_type": "stream",
          "name": "stdout",
          "text": [
            "['y', 'y', 'b', 'b', 'b', 'y', 'y', 'y', 'b', 'y']\n"
          ]
        }
      ]
    },
    {
      "cell_type": "code",
      "source": [],
      "metadata": {
        "id": "Pg7pVYBcgqib"
      },
      "execution_count": null,
      "outputs": []
    }
  ]
}